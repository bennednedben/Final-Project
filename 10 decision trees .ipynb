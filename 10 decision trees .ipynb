{
 "cells": [
  {
   "cell_type": "markdown",
   "id": "200618ad",
   "metadata": {},
   "source": [
    "## Random Forest Classifier/Regressor, Cross Validation, VarianceThreshold, PCA"
   ]
  },
  {
   "cell_type": "code",
   "execution_count": 1,
   "id": "85a338ee",
   "metadata": {},
   "outputs": [],
   "source": [
    "import pandas as pd\n",
    "import numpy as np\n",
    "pd.set_option('display.max_columns', None)\n",
    "import warnings\n",
    "warnings.filterwarnings('ignore')\n",
    "from sklearn.model_selection import cross_val_score\n",
    "from sklearn.model_selection import train_test_split\n",
    "from sklearn.tree import DecisionTreeRegressor"
   ]
  },
  {
   "cell_type": "code",
   "execution_count": 2,
   "id": "4058a2ba",
   "metadata": {},
   "outputs": [
    {
     "data": {
      "text/html": [
       "<div>\n",
       "<style scoped>\n",
       "    .dataframe tbody tr th:only-of-type {\n",
       "        vertical-align: middle;\n",
       "    }\n",
       "\n",
       "    .dataframe tbody tr th {\n",
       "        vertical-align: top;\n",
       "    }\n",
       "\n",
       "    .dataframe thead th {\n",
       "        text-align: right;\n",
       "    }\n",
       "</style>\n",
       "<table border=\"1\" class=\"dataframe\">\n",
       "  <thead>\n",
       "    <tr style=\"text-align: right;\">\n",
       "      <th></th>\n",
       "      <th>newlyConst</th>\n",
       "      <th>balcony</th>\n",
       "      <th>hasKitchen</th>\n",
       "      <th>cellar</th>\n",
       "      <th>yearConstructedRange</th>\n",
       "      <th>lift</th>\n",
       "      <th>baseRentRange</th>\n",
       "      <th>noRooms</th>\n",
       "      <th>floor</th>\n",
       "      <th>numberOfFloors</th>\n",
       "      <th>garden</th>\n",
       "      <th>livingSpaceRange</th>\n",
       "      <th>price_class</th>\n",
       "      <th>typeOfFlat_cat</th>\n",
       "      <th>heatingType_cat</th>\n",
       "      <th>firingTypes_cat</th>\n",
       "      <th>regio1_cat</th>\n",
       "      <th>condition_cat</th>\n",
       "      <th>interiorQual_cat</th>\n",
       "      <th>petsAllowed_cat</th>\n",
       "      <th>noRoomsRange_cat</th>\n",
       "      <th>energyEfficiencyClass_cat</th>\n",
       "    </tr>\n",
       "  </thead>\n",
       "  <tbody>\n",
       "    <tr>\n",
       "      <th>0</th>\n",
       "      <td>0</td>\n",
       "      <td>0</td>\n",
       "      <td>0</td>\n",
       "      <td>1</td>\n",
       "      <td>2.0</td>\n",
       "      <td>0</td>\n",
       "      <td>4</td>\n",
       "      <td>4.0</td>\n",
       "      <td>1.0</td>\n",
       "      <td>3.0</td>\n",
       "      <td>1</td>\n",
       "      <td>4</td>\n",
       "      <td>4</td>\n",
       "      <td>0.4</td>\n",
       "      <td>0.55</td>\n",
       "      <td>0.45</td>\n",
       "      <td>0.51</td>\n",
       "      <td>0.57</td>\n",
       "      <td>0.3</td>\n",
       "      <td>0.95</td>\n",
       "      <td>4.0</td>\n",
       "      <td>0.61</td>\n",
       "    </tr>\n",
       "  </tbody>\n",
       "</table>\n",
       "</div>"
      ],
      "text/plain": [
       "   newlyConst  balcony  hasKitchen  cellar  yearConstructedRange  lift  \\\n",
       "0           0        0           0       1                   2.0     0   \n",
       "\n",
       "   baseRentRange  noRooms  floor  numberOfFloors  garden  livingSpaceRange  \\\n",
       "0              4      4.0    1.0             3.0       1                 4   \n",
       "\n",
       "   price_class  typeOfFlat_cat  heatingType_cat  firingTypes_cat  regio1_cat  \\\n",
       "0            4             0.4             0.55             0.45        0.51   \n",
       "\n",
       "   condition_cat  interiorQual_cat  petsAllowed_cat  noRoomsRange_cat  \\\n",
       "0           0.57               0.3             0.95               4.0   \n",
       "\n",
       "   energyEfficiencyClass_cat  \n",
       "0                       0.61  "
      ]
     },
     "execution_count": 2,
     "metadata": {},
     "output_type": "execute_result"
    }
   ],
   "source": [
    "data = pd.read_csv('immo_cat.csv')\n",
    "data = data.drop(['Unnamed: 0.1', 'Unnamed: 0'], axis=1)\n",
    "cols = ['newlyConst', 'balcony', 'hasKitchen','lift', 'garden','cellar']\n",
    "data[cols] = data[cols].replace({True:1,False:0})\n",
    "data = data.drop(['serviceCharge','telekomHybridUploadSpeed','pricetrend','totalRent','scoutId','thermalChar','lastRefurbish','Euro/m2','livingSpace','picturecount','telekomUploadSpeed','yearConstructed','noParkSpaces','baseRent','geo_plz','heatingCosts','electricityBasePrice','electricityKwhPrice','regio1','telekomTvOffer','heatingType','typeOfFlat','houseNumber','geo_bln','geo_krs','street','regio2','regio3','date','description','facilities','streetPlain','firingTypes','condition','interiorQual','petsAllowed','noRoomsRange','energyEfficiencyClass'], axis=1)\n",
    "data.head(1)"
   ]
  },
  {
   "cell_type": "code",
   "execution_count": 3,
   "id": "9f34219c",
   "metadata": {},
   "outputs": [],
   "source": [
    "y = data['price_class']\n",
    "X = data.drop(['price_class'], axis = 1)\n",
    "\n",
    "numericalX = X.select_dtypes(np.number)\n",
    "categoricalX = X.select_dtypes(np.object)\n",
    "\n",
    "# we OneHotEncode the categoricals so we can use the same dataset to perform a regression later (in the lab).\n",
    "# it is not needed for a DecisionTree or RandomForest model-->no one hot encoding needed, but do for later\n",
    "from sklearn.preprocessing import OneHotEncoder\n",
    "encoder = OneHotEncoder(drop='first').fit(categoricalX)\n",
    "encoded_categorical = encoder.transform(categoricalX).toarray()\n",
    "encoded_categorical = pd.DataFrame(encoded_categorical)\n",
    "X = pd.concat([numericalX, encoded_categorical], axis = 1)\n",
    "\n",
    "# Note: we need to do train/test split before downsampling, and then only downsample the training set - Why?\n",
    "from sklearn.model_selection import train_test_split\n",
    "X_train, X_test, y_train, y_test = train_test_split(X, y, test_size=0.2, random_state=0)"
   ]
  },
  {
   "cell_type": "code",
   "execution_count": 4,
   "id": "5433bd59",
   "metadata": {},
   "outputs": [
    {
     "data": {
      "text/plain": [
       "(214248, 22)"
      ]
     },
     "execution_count": 4,
     "metadata": {},
     "output_type": "execute_result"
    }
   ],
   "source": [
    "trainset=pd.concat([y_train, X_train ], axis=1)\n",
    "trainset.shape"
   ]
  },
  {
   "cell_type": "code",
   "execution_count": 5,
   "id": "c28a56e1",
   "metadata": {},
   "outputs": [],
   "source": [
    "X_train = pd.DataFrame(X_train)\n",
    "X_test = pd.DataFrame(X_test)"
   ]
  },
  {
   "cell_type": "markdown",
   "id": "17b12d04",
   "metadata": {},
   "source": [
    "### RandomForestClassifier"
   ]
  },
  {
   "cell_type": "code",
   "execution_count": 6,
   "id": "abdb5b3b",
   "metadata": {},
   "outputs": [
    {
     "name": "stdout",
     "output_type": "stream",
     "text": [
      "0.3220846869048953\n",
      "0.3217019528770397\n"
     ]
    },
    {
     "data": {
      "text/plain": [
       "3     10269\n",
       "4      7536\n",
       "2      6356\n",
       "5      5802\n",
       "8      5326\n",
       "6      4743\n",
       "7      4487\n",
       "9      3116\n",
       "11     1780\n",
       "10     1740\n",
       "12      860\n",
       "1       832\n",
       "13      382\n",
       "14      264\n",
       "15       69\n",
       "Name: price_class, dtype: int64"
      ]
     },
     "metadata": {},
     "output_type": "display_data"
    },
    {
     "data": {
      "text/plain": [
       "array([[   0,  279,  531,   15,    1,    0,    0,    6,    0,    0,    0,\n",
       "           0,    0,    0,    0],\n",
       "       [   0,  987, 5109,  208,   26,    2,    0,   24,    0,    0,    0,\n",
       "           0,    0,    0,    0],\n",
       "       [   0,  190, 9104,  743,  119,    5,    0,  108,    0,    0,    0,\n",
       "           0,    0,    0,    0],\n",
       "       [   0,    0, 5285, 1453,  436,   23,    0,  339,    0,    0,    0,\n",
       "           0,    0,    0,    0],\n",
       "       [   0,    1, 2463, 1424,  897,   57,    0,  960,    0,    0,    0,\n",
       "           0,    0,    0,    0],\n",
       "       [   0,    0, 1030,  975,  905,   79,    0, 1754,    0,    0,    0,\n",
       "           0,    0,    0,    0],\n",
       "       [   0,    0,  485,  552,  622,   70,    0, 2756,    1,    0,    1,\n",
       "           0,    0,    0,    0],\n",
       "       [   0,    0,  316,  348,  312,   28,    0, 4305,    5,    0,   12,\n",
       "           0,    0,    0,    0],\n",
       "       [   0,    0,  133,  103,   62,    5,    0, 2723,   21,    0,   69,\n",
       "           0,    0,    0,    0],\n",
       "       [   0,    0,   51,   44,   24,    0,    0, 1434,   24,    0,  163,\n",
       "           0,    0,    0,    0],\n",
       "       [   0,    0,   47,   26,   15,    0,    0, 1289,   18,    0,  385,\n",
       "           0,    0,    0,    0],\n",
       "       [   0,    0,   23,    8,    4,    0,    0,  579,    8,    0,  238,\n",
       "           0,    0,    0,    0],\n",
       "       [   0,    0,    2,    5,    2,    0,    0,  228,    5,    0,  140,\n",
       "           0,    0,    0,    0],\n",
       "       [   0,    0,    2,    1,    1,    0,    0,  136,    2,    0,  122,\n",
       "           0,    0,    0,    0],\n",
       "       [   0,    0,    0,    1,    0,    0,    0,   34,    0,    0,   34,\n",
       "           0,    0,    0,    0]], dtype=int64)"
      ]
     },
     "metadata": {},
     "output_type": "display_data"
    }
   ],
   "source": [
    "from sklearn.ensemble import RandomForestClassifier\n",
    "from sklearn.metrics import confusion_matrix\n",
    "\n",
    "clf = RandomForestClassifier(max_depth=5,\n",
    "                             min_samples_split=20,\n",
    "                             min_samples_leaf =20,\n",
    "                             max_samples=0.8,\n",
    "                             random_state = 42)\n",
    "clf.fit(X_train, y_train)\n",
    "print(clf.score(X_train, y_train))\n",
    "print(clf.score(X_test, y_test))\n",
    "\n",
    "y_pred = clf.predict(X_test)\n",
    "display(y_test.value_counts())\n",
    "display(confusion_matrix(y_test, y_pred))"
   ]
  },
  {
   "cell_type": "code",
   "execution_count": 7,
   "id": "783fe1ba",
   "metadata": {},
   "outputs": [
    {
     "name": "stdout",
     "output_type": "stream",
     "text": [
      "0.316044885156986\n"
     ]
    }
   ],
   "source": [
    "# For cross validation\n",
    "from sklearn.model_selection import cross_val_score\n",
    "clf = RandomForestClassifier(max_depth=5,\n",
    "                             min_samples_split=20,\n",
    "                             min_samples_leaf =20)\n",
    "cross_val_scores = cross_val_score(clf, X_train, y_train, cv=10)\n",
    "print(np.mean(cross_val_scores))"
   ]
  },
  {
   "cell_type": "code",
   "execution_count": 8,
   "id": "27021231",
   "metadata": {},
   "outputs": [
    {
     "data": {
      "text/html": [
       "<table class=\"simpletable\">\n",
       "<caption>OLS Regression Results</caption>\n",
       "<tr>\n",
       "  <th>Dep. Variable:</th>       <td>price_class</td>   <th>  R-squared:         </th>  <td>   0.860</td>  \n",
       "</tr>\n",
       "<tr>\n",
       "  <th>Model:</th>                   <td>OLS</td>       <th>  Adj. R-squared:    </th>  <td>   0.860</td>  \n",
       "</tr>\n",
       "<tr>\n",
       "  <th>Method:</th>             <td>Least Squares</td>  <th>  F-statistic:       </th>  <td>6.281e+04</td> \n",
       "</tr>\n",
       "<tr>\n",
       "  <th>Date:</th>             <td>Wed, 19 Apr 2023</td> <th>  Prob (F-statistic):</th>   <td>  0.00</td>   \n",
       "</tr>\n",
       "<tr>\n",
       "  <th>Time:</th>                 <td>03:24:17</td>     <th>  Log-Likelihood:    </th> <td>-3.1720e+05</td>\n",
       "</tr>\n",
       "<tr>\n",
       "  <th>No. Observations:</th>      <td>214248</td>      <th>  AIC:               </th>  <td>6.344e+05</td> \n",
       "</tr>\n",
       "<tr>\n",
       "  <th>Df Residuals:</th>          <td>214226</td>      <th>  BIC:               </th>  <td>6.347e+05</td> \n",
       "</tr>\n",
       "<tr>\n",
       "  <th>Df Model:</th>              <td>    21</td>      <th>                     </th>      <td> </td>     \n",
       "</tr>\n",
       "<tr>\n",
       "  <th>Covariance Type:</th>      <td>nonrobust</td>    <th>                     </th>      <td> </td>     \n",
       "</tr>\n",
       "</table>\n",
       "<table class=\"simpletable\">\n",
       "<tr>\n",
       "              <td></td>                 <th>coef</th>     <th>std err</th>      <th>t</th>      <th>P>|t|</th>  <th>[0.025</th>    <th>0.975]</th>  \n",
       "</tr>\n",
       "<tr>\n",
       "  <th>const</th>                     <td>    1.5086</td> <td>    0.071</td> <td>   21.104</td> <td> 0.000</td> <td>    1.369</td> <td>    1.649</td>\n",
       "</tr>\n",
       "<tr>\n",
       "  <th>newlyConst</th>                <td>    0.0213</td> <td>    0.012</td> <td>    1.839</td> <td> 0.066</td> <td>   -0.001</td> <td>    0.044</td>\n",
       "</tr>\n",
       "<tr>\n",
       "  <th>balcony</th>                   <td>   -0.1455</td> <td>    0.005</td> <td>  -28.282</td> <td> 0.000</td> <td>   -0.156</td> <td>   -0.135</td>\n",
       "</tr>\n",
       "<tr>\n",
       "  <th>hasKitchen</th>                <td>    0.3145</td> <td>    0.005</td> <td>   58.667</td> <td> 0.000</td> <td>    0.304</td> <td>    0.325</td>\n",
       "</tr>\n",
       "<tr>\n",
       "  <th>cellar</th>                    <td>   -0.1353</td> <td>    0.005</td> <td>  -27.364</td> <td> 0.000</td> <td>   -0.145</td> <td>   -0.126</td>\n",
       "</tr>\n",
       "<tr>\n",
       "  <th>yearConstructedRange</th>      <td>    0.0160</td> <td>    0.001</td> <td>   11.604</td> <td> 0.000</td> <td>    0.013</td> <td>    0.019</td>\n",
       "</tr>\n",
       "<tr>\n",
       "  <th>lift</th>                      <td>    0.1945</td> <td>    0.007</td> <td>   28.880</td> <td> 0.000</td> <td>    0.181</td> <td>    0.208</td>\n",
       "</tr>\n",
       "<tr>\n",
       "  <th>baseRentRange</th>             <td>    1.4016</td> <td>    0.002</td> <td>  662.806</td> <td> 0.000</td> <td>    1.397</td> <td>    1.406</td>\n",
       "</tr>\n",
       "<tr>\n",
       "  <th>noRooms</th>                   <td>   -0.0707</td> <td>    0.012</td> <td>   -6.114</td> <td> 0.000</td> <td>   -0.093</td> <td>   -0.048</td>\n",
       "</tr>\n",
       "<tr>\n",
       "  <th>floor</th>                     <td>    0.0016</td> <td>    0.002</td> <td>    0.911</td> <td> 0.362</td> <td>   -0.002</td> <td>    0.005</td>\n",
       "</tr>\n",
       "<tr>\n",
       "  <th>numberOfFloors</th>            <td>    0.0278</td> <td>    0.002</td> <td>   15.250</td> <td> 0.000</td> <td>    0.024</td> <td>    0.031</td>\n",
       "</tr>\n",
       "<tr>\n",
       "  <th>garden</th>                    <td>   -0.0150</td> <td>    0.006</td> <td>   -2.523</td> <td> 0.012</td> <td>   -0.027</td> <td>   -0.003</td>\n",
       "</tr>\n",
       "<tr>\n",
       "  <th>livingSpaceRange</th>          <td>   -1.2160</td> <td>    0.003</td> <td> -359.940</td> <td> 0.000</td> <td>   -1.223</td> <td>   -1.209</td>\n",
       "</tr>\n",
       "<tr>\n",
       "  <th>typeOfFlat_cat</th>            <td>    0.3702</td> <td>    0.026</td> <td>   14.143</td> <td> 0.000</td> <td>    0.319</td> <td>    0.422</td>\n",
       "</tr>\n",
       "<tr>\n",
       "  <th>heatingType_cat</th>           <td>   -0.0165</td> <td>    0.023</td> <td>   -0.714</td> <td> 0.475</td> <td>   -0.062</td> <td>    0.029</td>\n",
       "</tr>\n",
       "<tr>\n",
       "  <th>firingTypes_cat</th>           <td>   -0.3498</td> <td>    0.061</td> <td>   -5.781</td> <td> 0.000</td> <td>   -0.468</td> <td>   -0.231</td>\n",
       "</tr>\n",
       "<tr>\n",
       "  <th>regio1_cat</th>                <td>    1.5671</td> <td>    0.015</td> <td>  103.926</td> <td> 0.000</td> <td>    1.538</td> <td>    1.597</td>\n",
       "</tr>\n",
       "<tr>\n",
       "  <th>condition_cat</th>             <td>    0.3826</td> <td>    0.020</td> <td>   19.531</td> <td> 0.000</td> <td>    0.344</td> <td>    0.421</td>\n",
       "</tr>\n",
       "<tr>\n",
       "  <th>interiorQual_cat</th>          <td>    0.7095</td> <td>    0.020</td> <td>   35.429</td> <td> 0.000</td> <td>    0.670</td> <td>    0.749</td>\n",
       "</tr>\n",
       "<tr>\n",
       "  <th>petsAllowed_cat</th>           <td>    1.9081</td> <td>    0.066</td> <td>   28.751</td> <td> 0.000</td> <td>    1.778</td> <td>    2.038</td>\n",
       "</tr>\n",
       "<tr>\n",
       "  <th>noRoomsRange_cat</th>          <td>   -0.3066</td> <td>    0.012</td> <td>  -25.398</td> <td> 0.000</td> <td>   -0.330</td> <td>   -0.283</td>\n",
       "</tr>\n",
       "<tr>\n",
       "  <th>energyEfficiencyClass_cat</th> <td>    0.0931</td> <td>    0.031</td> <td>    2.981</td> <td> 0.003</td> <td>    0.032</td> <td>    0.154</td>\n",
       "</tr>\n",
       "</table>\n",
       "<table class=\"simpletable\">\n",
       "<tr>\n",
       "  <th>Omnibus:</th>       <td>48644.332</td> <th>  Durbin-Watson:     </th>  <td>   2.002</td> \n",
       "</tr>\n",
       "<tr>\n",
       "  <th>Prob(Omnibus):</th>  <td> 0.000</td>   <th>  Jarque-Bera (JB):  </th> <td>185552.064</td>\n",
       "</tr>\n",
       "<tr>\n",
       "  <th>Skew:</th>           <td> 1.098</td>   <th>  Prob(JB):          </th>  <td>    0.00</td> \n",
       "</tr>\n",
       "<tr>\n",
       "  <th>Kurtosis:</th>       <td> 6.995</td>   <th>  Cond. No.          </th>  <td>    368.</td> \n",
       "</tr>\n",
       "</table><br/><br/>Notes:<br/>[1] Standard Errors assume that the covariance matrix of the errors is correctly specified."
      ],
      "text/plain": [
       "<class 'statsmodels.iolib.summary.Summary'>\n",
       "\"\"\"\n",
       "                            OLS Regression Results                            \n",
       "==============================================================================\n",
       "Dep. Variable:            price_class   R-squared:                       0.860\n",
       "Model:                            OLS   Adj. R-squared:                  0.860\n",
       "Method:                 Least Squares   F-statistic:                 6.281e+04\n",
       "Date:                Wed, 19 Apr 2023   Prob (F-statistic):               0.00\n",
       "Time:                        03:24:17   Log-Likelihood:            -3.1720e+05\n",
       "No. Observations:              214248   AIC:                         6.344e+05\n",
       "Df Residuals:                  214226   BIC:                         6.347e+05\n",
       "Df Model:                          21                                         \n",
       "Covariance Type:            nonrobust                                         \n",
       "=============================================================================================\n",
       "                                coef    std err          t      P>|t|      [0.025      0.975]\n",
       "---------------------------------------------------------------------------------------------\n",
       "const                         1.5086      0.071     21.104      0.000       1.369       1.649\n",
       "newlyConst                    0.0213      0.012      1.839      0.066      -0.001       0.044\n",
       "balcony                      -0.1455      0.005    -28.282      0.000      -0.156      -0.135\n",
       "hasKitchen                    0.3145      0.005     58.667      0.000       0.304       0.325\n",
       "cellar                       -0.1353      0.005    -27.364      0.000      -0.145      -0.126\n",
       "yearConstructedRange          0.0160      0.001     11.604      0.000       0.013       0.019\n",
       "lift                          0.1945      0.007     28.880      0.000       0.181       0.208\n",
       "baseRentRange                 1.4016      0.002    662.806      0.000       1.397       1.406\n",
       "noRooms                      -0.0707      0.012     -6.114      0.000      -0.093      -0.048\n",
       "floor                         0.0016      0.002      0.911      0.362      -0.002       0.005\n",
       "numberOfFloors                0.0278      0.002     15.250      0.000       0.024       0.031\n",
       "garden                       -0.0150      0.006     -2.523      0.012      -0.027      -0.003\n",
       "livingSpaceRange             -1.2160      0.003   -359.940      0.000      -1.223      -1.209\n",
       "typeOfFlat_cat                0.3702      0.026     14.143      0.000       0.319       0.422\n",
       "heatingType_cat              -0.0165      0.023     -0.714      0.475      -0.062       0.029\n",
       "firingTypes_cat              -0.3498      0.061     -5.781      0.000      -0.468      -0.231\n",
       "regio1_cat                    1.5671      0.015    103.926      0.000       1.538       1.597\n",
       "condition_cat                 0.3826      0.020     19.531      0.000       0.344       0.421\n",
       "interiorQual_cat              0.7095      0.020     35.429      0.000       0.670       0.749\n",
       "petsAllowed_cat               1.9081      0.066     28.751      0.000       1.778       2.038\n",
       "noRoomsRange_cat             -0.3066      0.012    -25.398      0.000      -0.330      -0.283\n",
       "energyEfficiencyClass_cat     0.0931      0.031      2.981      0.003       0.032       0.154\n",
       "==============================================================================\n",
       "Omnibus:                    48644.332   Durbin-Watson:                   2.002\n",
       "Prob(Omnibus):                  0.000   Jarque-Bera (JB):           185552.064\n",
       "Skew:                           1.098   Prob(JB):                         0.00\n",
       "Kurtosis:                       6.995   Cond. No.                         368.\n",
       "==============================================================================\n",
       "\n",
       "Notes:\n",
       "[1] Standard Errors assume that the covariance matrix of the errors is correctly specified.\n",
       "\"\"\""
      ]
     },
     "execution_count": 8,
     "metadata": {},
     "output_type": "execute_result"
    }
   ],
   "source": [
    "from sklearn.feature_selection import VarianceThreshold, RFE\n",
    "from sklearn.decomposition import PCA\n",
    "from sklearn.model_selection import cross_val_score\n",
    "import statsmodels.api as sm\n",
    "X_added_constant = sm.add_constant(X_train)\n",
    "X_added_constant\n",
    "model = sm.OLS(y_train,X_added_constant).fit()\n",
    "model.summary()"
   ]
  },
  {
   "cell_type": "code",
   "execution_count": 9,
   "id": "99e225ac",
   "metadata": {},
   "outputs": [
    {
     "name": "stdout",
     "output_type": "stream",
     "text": [
      "0.32279414510287147\n",
      "0.32241141107501586\n"
     ]
    }
   ],
   "source": [
    "rfc = RandomForestClassifier(max_depth=5,\n",
    "                             min_samples_split=20,\n",
    "                             min_samples_leaf =20,\n",
    "                             max_samples=0.2,\n",
    "                             random_state = 42)\n",
    "rfc.fit(X_train, y_train)\n",
    "print(rfc.score(X_train,y_train))\n",
    "print(rfc.score(X_test,y_test))\n",
    "# Make predictions on the test data\n",
    "y_pred = rfc.predict(X_test)"
   ]
  },
  {
   "cell_type": "code",
   "execution_count": 10,
   "id": "7e333eb7",
   "metadata": {},
   "outputs": [
    {
     "data": {
      "text/plain": [
       "0.3304628573166747"
      ]
     },
     "execution_count": 10,
     "metadata": {},
     "output_type": "execute_result"
    }
   ],
   "source": [
    "vt = VarianceThreshold(threshold=0.05)\n",
    "X_vt = vt.fit_transform(X_train)\n",
    "scores_vt = cross_val_score(rfc, X_vt, y_train, cv=5, scoring='accuracy')\n",
    "scores_vt.mean()"
   ]
  },
  {
   "cell_type": "code",
   "execution_count": 11,
   "id": "a1559e6c",
   "metadata": {},
   "outputs": [
    {
     "data": {
      "text/plain": [
       "0.3620337196155951"
      ]
     },
     "execution_count": 11,
     "metadata": {},
     "output_type": "execute_result"
    }
   ],
   "source": [
    "pca = PCA(n_components=6)\n",
    "X_pca = pca.fit_transform(X_train)\n",
    "scores_pca = cross_val_score(rfc, X_pca, y_train, cv=5, scoring='accuracy')\n",
    "scores_pca.mean()"
   ]
  },
  {
   "cell_type": "code",
   "execution_count": 12,
   "id": "f0b4a004",
   "metadata": {},
   "outputs": [
    {
     "name": "stdout",
     "output_type": "stream",
     "text": [
      "0.9161553271534614\n",
      "0.9119782947813627\n"
     ]
    }
   ],
   "source": [
    "from sklearn.ensemble import RandomForestRegressor\n",
    "regr = RandomForestRegressor(max_depth=10,\n",
    "                             criterion = 'squared_error',\n",
    "                             min_samples_split=10,\n",
    "                             min_samples_leaf = 10)\n",
    "regr.fit(X_train, y_train)\n",
    "print(regr.score(X_train, y_train))\n",
    "print(regr.score(X_test, y_test))\n",
    "\n",
    "y_pred = regr.predict(X_test)"
   ]
  },
  {
   "cell_type": "code",
   "execution_count": null,
   "id": "7c007ec4",
   "metadata": {},
   "outputs": [],
   "source": []
  },
  {
   "cell_type": "code",
   "execution_count": null,
   "id": "58542fa0",
   "metadata": {},
   "outputs": [],
   "source": []
  },
  {
   "cell_type": "code",
   "execution_count": null,
   "id": "86b92e42",
   "metadata": {},
   "outputs": [],
   "source": []
  }
 ],
 "metadata": {
  "kernelspec": {
   "display_name": "Python 3 (ipykernel)",
   "language": "python",
   "name": "python3"
  },
  "language_info": {
   "codemirror_mode": {
    "name": "ipython",
    "version": 3
   },
   "file_extension": ".py",
   "mimetype": "text/x-python",
   "name": "python",
   "nbconvert_exporter": "python",
   "pygments_lexer": "ipython3",
   "version": "3.9.12"
  }
 },
 "nbformat": 4,
 "nbformat_minor": 5
}
